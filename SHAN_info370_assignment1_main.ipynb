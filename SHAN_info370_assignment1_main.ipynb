{
 "cells": [
  {
   "cell_type": "code",
   "execution_count": 1,
   "metadata": {},
   "outputs": [],
   "source": [
    "from SHAN_info370_assignment1_scrape import *\n",
    "from SHAN_info370_assignment1_clean import *\n",
    "from SHAN_info370_assignment1_calculate import *"
   ]
  },
  {
   "cell_type": "code",
   "execution_count": 2,
   "metadata": {},
   "outputs": [],
   "source": [
    "# two urls that needs to be scraped\n",
    "# I use two urls because one does not have enough recipes to scrape. Two URLs combined have 180 recipes\n",
    "mainURL = \"https://www.spoonfulofflavor.com/category/main-dish\"\n",
    "secondURL = \"https://www.spoonfulofflavor.com/category/breakfast/\""
   ]
  },
  {
   "cell_type": "code",
   "execution_count": 3,
   "metadata": {},
   "outputs": [],
   "source": [
    "# main function from scrape file that scrapes and export all the raw data\n",
    "# param: two strings of URL\n",
    "scraperMain(mainURL, secondURL)"
   ]
  },
  {
   "cell_type": "code",
   "execution_count": 4,
   "metadata": {},
   "outputs": [],
   "source": [
    "# main function from clean file that clean all the raw data and export to another clean csv\n",
    "cleanerMain()"
   ]
  },
  {
   "cell_type": "code",
   "execution_count": 5,
   "metadata": {},
   "outputs": [],
   "source": [
    "# main function from calculate file that calculate the top 10 most used ingredients' names, counts, and proportions\n",
    "# calculated data will be exported to another calculate csv\n",
    "calculatorMain()"
   ]
  }
 ],
 "metadata": {
  "kernelspec": {
   "display_name": "Python 2",
   "language": "python",
   "name": "python2"
  },
  "language_info": {
   "codemirror_mode": {
    "name": "ipython",
    "version": 2
   },
   "file_extension": ".py",
   "mimetype": "text/x-python",
   "name": "python",
   "nbconvert_exporter": "python",
   "pygments_lexer": "ipython2",
   "version": "2.7.15"
  }
 },
 "nbformat": 4,
 "nbformat_minor": 2
}
