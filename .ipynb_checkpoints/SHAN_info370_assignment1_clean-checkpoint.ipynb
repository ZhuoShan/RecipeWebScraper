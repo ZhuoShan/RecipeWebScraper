{
 "cells": [
  {
   "cell_type": "code",
   "execution_count": 1,
   "metadata": {},
   "outputs": [],
   "source": [
    "import pandas as pd"
   ]
  },
  {
   "cell_type": "code",
   "execution_count": 2,
   "metadata": {},
   "outputs": [],
   "source": [
    "# remove all measurement\n",
    "def measureRemover(copy):\n",
    "    copy.Ingredients = copy.Ingredients.str.replace(r'^\\s*', '')\n",
    "    copy.Ingredients = copy.Ingredients.str.replace(r'can\\w*', '').str.replace(r'teaspoon\\w*', '').str.replace(r'tablespoon\\w*', '').str.replace(r'tbsp\\D ', '').str.replace(r'tbsp', '').str.replace(r'tsp.', '').str.replace(r'cup\\w*', '').str.replace(r'cup', '').str.replace(r'pint\\w*', '')\n",
    "    copy.Ingredients = copy.Ingredients.str.replace(r'pound\\w*', '').str.replace(r'ounce\\w*', '').str.replace(r'oz.', '').str.replace(r'clove\\w*', '').str.replace(r'pinch\\w*', '').str.replace(r'Pinch\\w*', '').str.replace(r'jar\\w*', '').str.replace(r'dash\\w*', '')\n",
    "    copy.Ingredients = copy.Ingredients.str.replace(r'large', '').str.replace(r'small', '').str.replace(r'whole', '').str.replace(r'plus', '').str.replace(r'slice\\w*', '').str.replace(r'loaf\\w* ', '').str.replace(r'handful\\w*', '').str.replace(r'half', '').str.replace(r'packed', '')\n",
    "    copy.Ingredients = copy.Ingredients.str.replace(r'^\\s*', '')\n",
    "    copy.Ingredients = copy.Ingredients.str.replace(r'^(of )', '').str.replace(r'^(to )', '').str.replace(r'(((?:[a-z][a-z]+))) of', '')\n",
    "    copy.Ingredients = copy.Ingredients.str.replace(r'^\\s*', '')\n",
    "    return copy"
   ]
  },
  {
   "cell_type": "code",
   "execution_count": 4,
   "metadata": {},
   "outputs": [],
   "source": [
    "#remove all prep method\n",
    "def prepRemover(copy):\n",
    "    copy.Ingredients = copy.Ingredients.str.replace(r'^\\s*', '')                         \n",
    "    copy.Ingredients = copy.Ingredients.str.replace(r'shred\\w*', '').str.replace(r'sliced\\w*', '')\n",
    "    copy.Ingredients = copy.Ingredients.str.replace(r'diced\\w*', '').str.replace(r'minced\\w*', '')\n",
    "    copy.Ingredients = copy.Ingredients.str.replace(r'ground\\w*', '').str.replace(r'uncooked\\w*', '')\n",
    "    copy.Ingredients = copy.Ingredients.str.replace(r'chopped\\w*', '').str.replace(r'cooked\\w*', '')\n",
    "    copy.Ingredients = copy.Ingredients.str.replace(r'fresh\\w*', '').str.replace(r'fine\\w*', '')\n",
    "    copy.Ingredients = copy.Ingredients.str.replace(r'thinly\\w*', '').str.replace(r'fine\\w*', '')\n",
    "    copy.Ingredients = copy.Ingredients.str.replace(r'kosher\\w*', '').str.replace(r'light brown', '').str.replace(r'brown', '').str.replace(r'granulated', '').str.replace(r'confectioners\\w*', '')\n",
    "    copy.Ingredients = copy.Ingredients.str.replace(r'^\\s*', '')\n",
    "    return copy"
   ]
  },
  {
   "cell_type": "code",
   "execution_count": 5,
   "metadata": {},
   "outputs": [],
   "source": [
    "def cleanerMain():\n",
    "    rawData = pd.read_csv('SHAN_info370_assignment1_rawData.csv', index_col=0)\n",
    "    rawCopy = rawData.copy()\n",
    "    # convert all strings to lower case\n",
    "    rawCopy['Ingredients'] = rawCopy['Ingredients'].str.lower()\n",
    "    # remove all the numbers\n",
    "    rawCopy.Ingredients = rawCopy.Ingredients.str.replace(r'\\d', '').str.replace(r'one ', '').str.replace(r'several', '')\n",
    "    # remove all character Â\n",
    "    rawCopy.Ingredients = rawCopy.Ingredients.str.replace(r'Â', '')\n",
    "    # remove all special character like ½\n",
    "    rawCopy.Ingredients = rawCopy.Ingredients.str.replace(r'½ ', '').str.replace(r'¼ ', '').str.replace(r'¾ ', '')\n",
    "    # remove everything after a comma becuase the content only has the preping method\n",
    "    rawCopy.Ingredients = rawCopy.Ingredients.str.replace(r'\\,.*$', '')\n",
    "    # remove all /, -, and +\n",
    "    rawCopy.Ingredients = rawCopy.Ingredients.str.replace(r'\\/', '').str.replace(r'\\-', '').str.replace(r'\\+', '')\n",
    "    # remove all () and everything before\n",
    "    rawCopy.Ingredients = rawCopy.Ingredients.str.replace(r'\\(.*\\)', '').str.replace(r'(((?:[a-z][a-z]+))) \\(.*\\) ', '')\n",
    "    # remove all measurement\n",
    "    rawCopy = measureRemover(rawCopy)\n",
    "    # remove * and ()\n",
    "    rawCopy.Ingredients = rawCopy.Ingredients.str.replace(r'\\*', '')\n",
    "    rawCopy.Ingredients = rawCopy.Ingredients.str.replace(r'\\,.*$', '').str.replace(r'\\(.*$', '')\n",
    "    # remove spaces at the beginning of line\n",
    "    rawCopy.Ingredients = rawCopy.Ingredients.str.replace(r'^\\s*', '') \n",
    "    # remove all preping method\n",
    "    rawCopy = prepRemover(rawCopy)\n",
    "    # export to csv file\n",
    "    rawCopy.to_csv('SHAN_info370_assignment1_cleanData.csv')"
   ]
  }
 ],
 "metadata": {
  "kernelspec": {
   "display_name": "Python 2",
   "language": "python",
   "name": "python2"
  },
  "language_info": {
   "codemirror_mode": {
    "name": "ipython",
    "version": 2
   },
   "file_extension": ".py",
   "mimetype": "text/x-python",
   "name": "python",
   "nbconvert_exporter": "python",
   "pygments_lexer": "ipython2",
   "version": "2.7.15"
  }
 },
 "nbformat": 4,
 "nbformat_minor": 2
}
