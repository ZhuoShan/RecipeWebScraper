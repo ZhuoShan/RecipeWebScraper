{
 "cells": [
  {
   "cell_type": "code",
   "execution_count": 1,
   "metadata": {},
   "outputs": [],
   "source": [
    "import pandas as pd"
   ]
  },
  {
   "cell_type": "code",
   "execution_count": 15,
   "metadata": {},
   "outputs": [],
   "source": [
    "# a calculator function that get the names, counts and proportions of top 10 most used ingredients\n",
    "def calculatorMain():\n",
    "    rawData = pd.read_csv('SHAN_info370_assignment1_cleanData.csv', index_col=0)\n",
    "    rawCopy = rawData.copy()\n",
    "    # get top 10 most used ingredients' names\n",
    "    mostIngredients = rawCopy['Ingredients'].value_counts()[0:10].index.tolist()\n",
    "    # get top 10 most used infredients counts\n",
    "    mostCounts = rawCopy['Ingredients'].value_counts()[0:10].tolist()\n",
    "    # calculate proportion\n",
    "    proportion = []\n",
    "    for value in mostCounts:\n",
    "        proportion.append(\"{0:.3f}\".format(float(value)/180))\n",
    "    calculatedFrame = pd.DataFrame({'word': mostIngredients, 'count': mostCounts, 'proportion': proportion})\n",
    "    # sort the order of columns\n",
    "    calculatedFrame = calculatedFrame[['word', 'count', 'proportion']]\n",
    "    # export to csv file\n",
    "    calculatedFrame.to_csv('SHAN_info370_assignment1_calculate.csv', index = False)"
   ]
  }
 ],
 "metadata": {
  "kernelspec": {
   "display_name": "Python 2",
   "language": "python",
   "name": "python2"
  },
  "language_info": {
   "codemirror_mode": {
    "name": "ipython",
    "version": 2
   },
   "file_extension": ".py",
   "mimetype": "text/x-python",
   "name": "python",
   "nbconvert_exporter": "python",
   "pygments_lexer": "ipython2",
   "version": "2.7.15"
  }
 },
 "nbformat": 4,
 "nbformat_minor": 2
}
