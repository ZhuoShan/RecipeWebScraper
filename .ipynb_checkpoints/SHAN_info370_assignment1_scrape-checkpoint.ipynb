{
 "cells": [
  {
   "cell_type": "code",
   "execution_count": 1,
   "metadata": {},
   "outputs": [],
   "source": [
    "import pandas as pd;\n",
    "import requests;\n",
    "import re\n",
    "from bs4 import BeautifulSoup"
   ]
  },
  {
   "cell_type": "code",
   "execution_count": 2,
   "metadata": {},
   "outputs": [],
   "source": [
    "# A function that scrapes url of individual individual page from the main page\n",
    "# @param: a string of URL of the main page\n",
    "# @return a list of names of recipes, a list of url of recipes\n",
    "def nameURLScraper(url):\n",
    "    r = requests.get(url)\n",
    "    soup = BeautifulSoup(r.text, 'html.parser')\n",
    "    links = []\n",
    "    names = []\n",
    "    for each in soup.find_all('div', attrs={'class': 'archive-post'}):\n",
    "        for i in each.find_all('h4', attrs={'class':'title'}):\n",
    "            names.append(i.get_text())\n",
    "        for j in each.find_all('a', attrs={'href':re.compile(\"^https://\")}):\n",
    "            links.append(j.get('href'))\n",
    "    return names, links"
   ]
  },
  {
   "cell_type": "code",
   "execution_count": 3,
   "metadata": {},
   "outputs": [],
   "source": [
    "# A function that scrapes ingredients from individual recipe page\n",
    "# @param: a string of URL of individual recipe page\n",
    "# @return: a list of uncleaned ingredients\n",
    "def ingredientScraper(url):\n",
    "    r = requests.get(url)\n",
    "    soup = BeautifulSoup(r.text, 'html.parser') \n",
    "    ingredient = soup.find_all('li', attrs={'class':'ingredient'})\n",
    "    ingredients = []\n",
    "    for each in ingredient:\n",
    "        ingredients.append(each.get_text())\n",
    "    return ingredients"
   ]
  },
  {
   "cell_type": "code",
   "execution_count": 4,
   "metadata": {},
   "outputs": [],
   "source": [
    "# A function that scrapes URLs of all pages\n",
    "# @param: a URL of the main page\n",
    "# @return: a list of URLs of pages(main page included)\n",
    "def pageURLScraper(url):\n",
    "    r = requests.get(url)\n",
    "    soup = BeautifulSoup(r.text, 'html.parser')\n",
    "    pages = [url]\n",
    "    for each in soup.find_all('div', attrs={'class': 'nav-links'}):\n",
    "        for i in each.find_all('a', attrs={'href':re.compile(\"^https://\")}):\n",
    "            if i.get('href') not in pages:\n",
    "                pages.append(i.get('href'))\n",
    "    return pages"
   ]
  },
  {
   "cell_type": "code",
   "execution_count": 5,
   "metadata": {},
   "outputs": [],
   "source": [
    "# The main function that scrapes all the recipes from the given URLs\n",
    "# @param: two string of URLs that need to be scraped\n",
    "# @return: a dataframe of all ingredients, corresponding url and name, a list of all name, a list of all URL\n",
    "# @return: the function will produce a .csv file from the dataframe returned\n",
    "def scraperMain(mainURL, secondURL):\n",
    "    mainList = pageURLScraper(mainURL)\n",
    "    secondList = pageURLScraper(secondURL)\n",
    "    pageList = mainList + secondList\n",
    "    ingredientsFrame = pd.DataFrame()\n",
    "    allNames = pd.DataFrame()\n",
    "    allURL = pd.DataFrame()\n",
    "    for each in pageList:\n",
    "        curNames, curLists = nameURLScraper(each)\n",
    "        allNames = allNames.append(curNames)\n",
    "        allURL = allURL.append(curLists)\n",
    "        for i in range(0, len(curLists)-1):\n",
    "            curIngredients = ingredientScraper(curLists[i])\n",
    "            ingredientsFrame = ingredientsFrame.append(\n",
    "                pd.DataFrame({'Name': curNames[i], 'Ingredients': curIngredients, 'URL': curLists[i]}))\n",
    "    # remove redundant indexing\n",
    "    ingredientsFrame = ingredientsFrame.reset_index(drop=True)\n",
    "    #sort columns into right order\n",
    "    ingredientsFrame = ingredientsFrame[['URL', 'Name', 'Ingredients']]\n",
    "    ingredientsFrame.to_csv(\"SHAN_info370_assignment1_rawData.csv\", encoding='utf-8')"
   ]
  }
 ],
 "metadata": {
  "kernelspec": {
   "display_name": "Python 2",
   "language": "python",
   "name": "python2"
  },
  "language_info": {
   "codemirror_mode": {
    "name": "ipython",
    "version": 2
   },
   "file_extension": ".py",
   "mimetype": "text/x-python",
   "name": "python",
   "nbconvert_exporter": "python",
   "pygments_lexer": "ipython2",
   "version": "2.7.15"
  }
 },
 "nbformat": 4,
 "nbformat_minor": 2
}
