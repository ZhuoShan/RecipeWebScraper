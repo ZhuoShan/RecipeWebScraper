{
 "cells": [
  {
   "cell_type": "code",
   "execution_count": 1,
   "metadata": {},
   "outputs": [],
   "source": [
    "import pandas as pd;\n",
    "import string;\n",
    "import requests;\n",
    "import re\n",
    "from bs4 import BeautifulSoup"
   ]
  },
  {
   "cell_type": "code",
   "execution_count": 8,
   "metadata": {},
   "outputs": [],
   "source": [
    "names, links = nameURLScraper(\"https://www.spoonfulofflavor.com/category/main-dish/\")"
   ]
  },
  {
   "cell_type": "code",
   "execution_count": 9,
   "metadata": {},
   "outputs": [],
   "source": [
    "ingredients = ingredientScraper(links[0])"
   ]
  },
  {
   "cell_type": "code",
   "execution_count": 14,
   "metadata": {},
   "outputs": [],
   "source": [
    "x = pd.DataFrame({'Name': names[0], 'Ingredients': ingredients, 'URL': links[0]})"
   ]
  },
  {
   "cell_type": "code",
   "execution_count": 5,
   "metadata": {},
   "outputs": [],
   "source": [
    "# A function that scrapes url of individual individual page from the main page\n",
    "# @param: a string of URL of the main page\n",
    "# @return a list of names of recipes, a list of url of recipes\n",
    "def nameURLScraper(url):\n",
    "    r = requests.get(url)\n",
    "    soup = BeautifulSoup(r.text, 'html.parser')\n",
    "    links = []\n",
    "    names = []\n",
    "    for each in soup.find_all('div', attrs={'class': 'archive-post'}):\n",
    "        for i in each.find_all('h4', attrs={'class':'title'}):\n",
    "            names.append(i.get_text())\n",
    "        for j in each.find_all('a', attrs={'href':re.compile(\"^https://\")}):\n",
    "            links.append(j.get('href'))\n",
    "    return names, links"
   ]
  },
  {
   "cell_type": "code",
   "execution_count": 6,
   "metadata": {},
   "outputs": [],
   "source": [
    "# A function that scrape ingredients from individual recipe page\n",
    "# @param: a string of URL of individual recipe page\n",
    "# @return: a list of uncleaned ingredients\n",
    "def ingredientScraper(url):\n",
    "    r = requests.get(url)\n",
    "    soup = BeautifulSoup(r.text, 'html.parser') \n",
    "    ingredient = soup.find_all('li', attrs={'class':'ingredient'})\n",
    "    ingredients = []\n",
    "    for each in ingredient:\n",
    "        ingredients.append(each.get_text())\n",
    "    return ingredients"
   ]
  },
  {
   "cell_type": "code",
   "execution_count": null,
   "metadata": {},
   "outputs": [],
   "source": []
  }
 ],
 "metadata": {
  "kernelspec": {
   "display_name": "Python 2",
   "language": "python",
   "name": "python2"
  },
  "language_info": {
   "codemirror_mode": {
    "name": "ipython",
    "version": 2
   },
   "file_extension": ".py",
   "mimetype": "text/x-python",
   "name": "python",
   "nbconvert_exporter": "python",
   "pygments_lexer": "ipython2",
   "version": "2.7.15"
  }
 },
 "nbformat": 4,
 "nbformat_minor": 2
}
